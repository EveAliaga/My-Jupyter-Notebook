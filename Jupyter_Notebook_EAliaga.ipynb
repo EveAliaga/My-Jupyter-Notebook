{
 "cells": [
  {
   "cell_type": "markdown",
   "metadata": {},
   "source": [
    "<center>\n",
    "    <img src=\"https://cf-courses-data.s3.us.cloud-object-storage.appdomain.cloud/IBMDeveloperSkillsNetwork-DS0105EN-SkillsNetwork/labs/Module2/images/SN_web_lightmode.png\" width=\"300\" alt=\"cognitiveclass.ai logo\"  />\n",
    "</center>\n"
   ]
  },
  {
   "cell_type": "markdown",
   "metadata": {},
   "source": [
    "# My Jupyter Notebook on IBM Watson Studio"
   ]
  },
  {
   "cell_type": "markdown",
   "metadata": {},
   "source": [
    "**María de Jesús Evelyn Aliaga Medrano** \n",
    "\n",
    "Civil Engineer - Data Science student"
   ]
  },
  {
   "cell_type": "markdown",
   "metadata": {},
   "source": [
    "*During my college experience, I found Data Science, since then I live so interested in the amazing this you can do with data and algorithms. I think that it's possible help in the World's conservation using the data analytics as a powerful tool in the current problems.* "
   ]
  },
  {
   "cell_type": "markdown",
   "metadata": {},
   "source": [
    "### The following code allows calculate the multiplication of the number 5 to the number 4. The result is equal to 20."
   ]
  },
  {
   "cell_type": "code",
   "execution_count": 1,
   "metadata": {},
   "outputs": [
    {
     "data": {
      "text/plain": [
       "20"
      ]
     },
     "execution_count": 1,
     "metadata": {},
     "output_type": "execute_result"
    }
   ],
   "source": [
    "5*4"
   ]
  },
  {
   "cell_type": "markdown",
   "metadata": {},
   "source": [
    "The following cell shows a list of the first five numbers in japanese. Then, a table of rainy/no rainy days in a week. Finally the link of the weather forecast of my city. "
   ]
  },
  {
   "cell_type": "markdown",
   "metadata": {},
   "source": [
    "* Ichi\n",
    "* Ni\n",
    "* San \n",
    "* Yon \n",
    "* Go \n",
    "\n",
    "|Day|Rainy|No Rainy|\n",
    "|----|----|----|\n",
    "|Monday|x| |\n",
    "|Tuesday| |x|\n",
    "|Wednesday|x| |\n",
    "|Thursday|x| |\n",
    "|Friday| |x|\n",
    "|Saturday|x| |\n",
    "|Sunday---|-|x|\n",
    "\n",
    "https://www.accuweather.com/es/bo/la-paz/33655/weather-forecast/33655"
   ]
  },
  {
   "cell_type": "code",
   "execution_count": null,
   "metadata": {},
   "outputs": [],
   "source": []
  }
 ],
 "metadata": {
  "kernelspec": {
   "display_name": "Python",
   "language": "python",
   "name": "conda-env-python-py"
  },
  "language_info": {
   "codemirror_mode": {
    "name": "ipython",
    "version": 3
   },
   "file_extension": ".py",
   "mimetype": "text/x-python",
   "name": "python",
   "nbconvert_exporter": "python",
   "pygments_lexer": "ipython3",
   "version": "3.7.12"
  }
 },
 "nbformat": 4,
 "nbformat_minor": 4
}
